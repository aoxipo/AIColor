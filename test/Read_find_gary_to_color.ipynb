{
 "cells": [
  {
   "cell_type": "code",
   "execution_count": 11,
   "metadata": {
    "ExecuteTime": {
     "end_time": "2023-02-22T01:55:13.033785Z",
     "start_time": "2023-02-22T01:55:13.024458Z"
    }
   },
   "outputs": [],
   "source": [
    "import os\n",
    "import cv2\n",
    "import argparse\n",
    "from tqdm import tqdm\n",
    "import numpy as np"
   ]
  },
  {
   "cell_type": "code",
   "execution_count": 2,
   "metadata": {
    "ExecuteTime": {
     "end_time": "2023-02-22T01:51:37.863263Z",
     "start_time": "2023-02-22T01:51:37.859274Z"
    }
   },
   "outputs": [],
   "source": [
    "image_path = r'H:\\DATASET\\COLORDATA\\train_gt\\train_gt_frame'\n",
    "gt_path = r'H:\\DATASET\\COLORDATA\\train\\train_frame'"
   ]
  },
  {
   "cell_type": "code",
   "execution_count": 4,
   "metadata": {
    "ExecuteTime": {
     "end_time": "2023-02-22T01:52:34.245801Z",
     "start_time": "2023-02-22T01:52:34.229852Z"
    }
   },
   "outputs": [],
   "source": [
    "image_file_list = os.listdir(image_path)\n",
    "gt_file_list = os.listdir(gt_path)"
   ]
  },
  {
   "cell_type": "markdown",
   "metadata": {},
   "source": [
    "# 检查文件名称 "
   ]
  },
  {
   "cell_type": "code",
   "execution_count": 12,
   "metadata": {
    "ExecuteTime": {
     "end_time": "2023-02-22T01:55:21.310642Z",
     "start_time": "2023-02-22T01:55:21.262770Z"
    }
   },
   "outputs": [
    {
     "data": {
      "text/plain": [
       "0"
      ]
     },
     "execution_count": 12,
     "metadata": {},
     "output_type": "execute_result"
    }
   ],
   "source": [
    "np.sum([image_file_list[i] != gt_file_list[i] for i in range(len(image_file_list))])"
   ]
  },
  {
   "cell_type": "markdown",
   "metadata": {
    "ExecuteTime": {
     "end_time": "2023-02-22T02:07:22.423410Z",
     "start_time": "2023-02-22T02:07:22.414433Z"
    }
   },
   "source": [
    "# 检查文件帧数是否对等"
   ]
  },
  {
   "cell_type": "code",
   "execution_count": 22,
   "metadata": {
    "ExecuteTime": {
     "end_time": "2023-02-22T02:11:02.695753Z",
     "start_time": "2023-02-22T02:10:33.070833Z"
    }
   },
   "outputs": [],
   "source": [
    "for i in range(len(image_file_list)):\n",
    "    middle_name = image_file_list[i]\n",
    "    image_video_path = image_path+ '/' + middle_name\n",
    "    gt_video_path = gt_path + '/' + middle_name\n",
    "    image_video_path_list = os.listdir(image_video_path)\n",
    "    gt_video_path_list = os.listdir(gt_video_path)\n",
    "    assert len(image_video_path_list) == len(gt_video_path_list),'{},{} file not same dim '.formatr(image_video_path,gt_video_path)\n",
    "    for j in range(len(image_video_path_list)):\n",
    "        image_frame_name = image_video_path_list[j]\n",
    "        gt_frame_name = gt_video_path_list[j]\n",
    "        assert image_frame_name == gt_frame_name, '{},{},{} file not equ'.format(image_frame_name,gt_frame_name,image_video_path)"
   ]
  },
  {
   "cell_type": "code",
   "execution_count": 3,
   "metadata": {
    "ExecuteTime": {
     "end_time": "2023-02-21T10:39:57.649261Z",
     "start_time": "2023-02-21T10:39:57.635283Z"
    }
   },
   "outputs": [],
   "source": [
    "\n",
    "def FrameCapture(video_path, output_path):\n",
    "    vidObj = cv2.VideoCapture(video_path)\n",
    "    count = 1\n",
    "    success = 1\n",
    "    while success:\n",
    "        success, image = vidObj.read()\n",
    "        if success:\n",
    "            # cv2.imwrite(output_path + \"/%d.png\" % count, image)\n",
    "            cv2.imwrite(output_path + \"/f%03d.png\" % count, image)\n",
    "            count += 1\n",
    "\n",
    "\n",
    "def video2frame():\n",
    "    parser = argparse.ArgumentParser()\n",
    "    parser.add_argument(\"--input\", type=str, default=\".\", help=\"path of input videos\")\n",
    "    parser.add_argument(\"--output\", type=str, default=\"frames\", help=\"path of output clips\")\n",
    "    opt = parser.parse_args()\n",
    "\n",
    "    video_path = opt.input\n",
    "    output_path = opt.output\n",
    "    os.makedirs(output_path, exist_ok=True)\n",
    "    \n",
    "    videos = [video for video in os.listdir(video_path) if video.endswith(\".avi\") or video.endswith(\".mp4\") or video.endswith(\".mkv\")]\n",
    "    videos.sort()\n",
    "    print(videos)\n",
    "\n",
    "    print(f\"Extracting frames from {len(videos)} videoes in {video_path} ...\")\n",
    "    for video in tqdm(videos):\n",
    "        frame_path = os.path.join(output_path, video.split(\".\")[0])\n",
    "        os.makedirs(frame_path, exist_ok=True)\n",
    "        FrameCapture(os.path.join(video_path, video), frame_path)\n",
    "    print('Done.')"
   ]
  },
  {
   "cell_type": "code",
   "execution_count": 4,
   "metadata": {
    "ExecuteTime": {
     "end_time": "2023-02-21T11:24:47.657992Z",
     "start_time": "2023-02-21T10:43:18.257214Z"
    }
   },
   "outputs": [
    {
     "name": "stdout",
     "output_type": "stream",
     "text": [
      "['001.mkv', '002.mkv', '003.mkv', '004.mkv', '005.mkv', '006.mkv', '007.mkv', '008.mkv', '009.mkv', '010.mkv', '011.mkv', '012.mkv', '013.mkv', '014.mkv', '015.mkv', '016.mkv', '017.mkv', '018.mkv', '019.mkv', '020.mkv', '021.mkv', '022.mkv', '023.mkv', '024.mkv', '025.mkv', '026.mkv', '027.mkv', '028.mkv', '029.mkv', '030.mkv', '031.mkv', '032.mkv', '033.mkv', '034.mkv', '035.mkv', '036.mkv', '037.mkv', '038.mkv', '039.mkv', '040.mkv', '041.mkv', '042.mkv', '043.mkv', '044.mkv', '045.mkv', '046.mkv', '047.mkv', '048.mkv', '049.mkv', '050.mkv', '051.mkv', '052.mkv', '053.mkv', '054.mkv', '055.mkv', '056.mkv', '057.mkv', '058.mkv', '059.mkv', '060.mkv', '061.mkv', '062.mkv', '063.mkv', '064.mkv', '065.mkv', '066.mkv', '067.mkv', '068.mkv', '069.mkv', '070.mkv', '071.mkv', '072.mkv', '073.mkv', '074.mkv', '075.mkv', '076.mkv', '077.mkv', '078.mkv', '079.mkv', '080.mkv', '081.mkv', '082.mkv', '083.mkv', '084.mkv', '085.mkv', '086.mkv', '087.mkv', '088.mkv', '089.mkv', '090.mkv', '091.mkv', '092.mkv', '093.mkv', '094.mkv', '095.mkv', '096.mkv', '097.mkv', '098.mkv', '099.mkv', '100.mkv', '101.mkv', '102.mkv', '103.mkv', '104.mkv', '105.mkv', '106.mkv', '107.mkv', '108.mkv', '109.mkv', '110.mkv', '111.mkv', '112.mkv', '113.mkv', '114.mkv', '115.mkv', '116.mkv', '117.mkv', '118.mkv', '119.mkv', '120.mkv', '121.mkv', '122.mkv', '123.mkv', '124.mkv', '125.mkv', '126.mkv', '127.mkv', '128.mkv', '129.mkv', '130.mkv', '131.mkv', '132.mkv', '133.mkv', '134.mkv', '135.mkv', '136.mkv', '137.mkv', '138.mkv', '139.mkv', '140.mkv', '141.mkv', '142.mkv', '143.mkv', '144.mkv', '145.mkv', '146.mkv', '147.mkv', '148.mkv', '149.mkv', '150.mkv', '151.mkv', '152.mkv', '153.mkv', '154.mkv', '155.mkv', '156.mkv', '157.mkv', '158.mkv', '159.mkv', '160.mkv', '161.mkv', '162.mkv', '163.mkv', '164.mkv', '165.mkv', '166.mkv', '167.mkv', '168.mkv', '169.mkv', '170.mkv', '171.mkv', '172.mkv', '173.mkv', '174.mkv', '175.mkv', '176.mkv', '177.mkv', '178.mkv', '179.mkv', '180.mkv', '181.mkv', '182.mkv', '183.mkv', '184.mkv', '185.mkv', '186.mkv', '187.mkv', '188.mkv', '189.mkv', '190.mkv', '191.mkv', '192.mkv', '193.mkv', '194.mkv', '195.mkv', '196.mkv', '197.mkv', '198.mkv', '199.mkv', '200.mkv']\n",
      "Extracting frames from 200 videoes in H:\\DATASET\\COLORDATA\\train\\train/ ...\n"
     ]
    },
    {
     "name": "stderr",
     "output_type": "stream",
     "text": [
      "100%|████████████████████████████████████████████████████████████████████████████████| 200/200 [41:29<00:00, 12.45s/it]"
     ]
    },
    {
     "name": "stdout",
     "output_type": "stream",
     "text": [
      "Done.\n"
     ]
    },
    {
     "name": "stderr",
     "output_type": "stream",
     "text": [
      "\n"
     ]
    }
   ],
   "source": [
    "video_path = r'H:\\DATASET\\COLORDATA\\train\\train/'\n",
    "output_path = r'H:/DATASET/COLORDATA/train/train_frame/'\n",
    "os.makedirs(output_path, exist_ok=True)\n",
    "videos = [video for video in os.listdir(video_path) if video.endswith(\".avi\") or video.endswith(\".mp4\") or video.endswith(\".mkv\")]\n",
    "videos.sort()\n",
    "print(videos)\n",
    "\n",
    "print(f\"Extracting frames from {len(videos)} videoes in {video_path} ...\")\n",
    "for video in tqdm(videos):\n",
    "    frame_path = os.path.join(output_path, video.split(\".\")[0])\n",
    "    os.makedirs(frame_path, exist_ok=True)\n",
    "    FrameCapture(os.path.join(video_path, video), frame_path)\n",
    "print('Done.')"
   ]
  },
  {
   "cell_type": "code",
   "execution_count": null,
   "metadata": {},
   "outputs": [],
   "source": []
  }
 ],
 "metadata": {
  "hide_input": false,
  "kernelspec": {
   "display_name": "DSIM",
   "language": "python",
   "name": "dsim"
  },
  "language_info": {
   "codemirror_mode": {
    "name": "ipython",
    "version": 3
   },
   "file_extension": ".py",
   "mimetype": "text/x-python",
   "name": "python",
   "nbconvert_exporter": "python",
   "pygments_lexer": "ipython3",
   "version": "3.10.4"
  },
  "latex_envs": {
   "LaTeX_envs_menu_present": true,
   "autoclose": false,
   "autocomplete": true,
   "bibliofile": "biblio.bib",
   "cite_by": "apalike",
   "current_citInitial": 1,
   "eqLabelWithNumbers": true,
   "eqNumInitial": 1,
   "hotkeys": {
    "equation": "Ctrl-E",
    "itemize": "Ctrl-I"
   },
   "labels_anchors": false,
   "latex_user_defs": false,
   "report_style_numbering": false,
   "user_envs_cfg": false
  },
  "toc": {
   "base_numbering": 1,
   "nav_menu": {},
   "number_sections": true,
   "sideBar": true,
   "skip_h1_title": false,
   "title_cell": "Table of Contents",
   "title_sidebar": "Contents",
   "toc_cell": false,
   "toc_position": {},
   "toc_section_display": true,
   "toc_window_display": false
  },
  "varInspector": {
   "cols": {
    "lenName": 16,
    "lenType": 16,
    "lenVar": 40
   },
   "kernels_config": {
    "python": {
     "delete_cmd_postfix": "",
     "delete_cmd_prefix": "del ",
     "library": "var_list.py",
     "varRefreshCmd": "print(var_dic_list())"
    },
    "r": {
     "delete_cmd_postfix": ") ",
     "delete_cmd_prefix": "rm(",
     "library": "var_list.r",
     "varRefreshCmd": "cat(var_dic_list()) "
    }
   },
   "types_to_exclude": [
    "module",
    "function",
    "builtin_function_or_method",
    "instance",
    "_Feature"
   ],
   "window_display": false
  }
 },
 "nbformat": 4,
 "nbformat_minor": 2
}
