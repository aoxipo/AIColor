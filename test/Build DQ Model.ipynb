{
 "cells": [
  {
   "cell_type": "code",
   "execution_count": 1,
   "metadata": {
    "ExecuteTime": {
     "end_time": "2023-03-10T01:15:03.711913Z",
     "start_time": "2023-03-10T01:15:03.706926Z"
    }
   },
   "outputs": [],
   "source": [
    "import sys \n",
    "sys.path.append(\"..\") "
   ]
  },
  {
   "cell_type": "code",
   "execution_count": 2,
   "metadata": {
    "ExecuteTime": {
     "end_time": "2023-03-10T01:15:05.311459Z",
     "start_time": "2023-03-10T01:15:04.585858Z"
    }
   },
   "outputs": [
    {
     "name": "stderr",
     "output_type": "stream",
     "text": [
      "E:\\anaconda\\envs\\DSIM\\lib\\site-packages\\tqdm\\auto.py:22: TqdmWarning: IProgress not found. Please update jupyter and ipywidgets. See https://ipywidgets.readthedocs.io/en/stable/user_install.html\n",
      "  from .autonotebook import tqdm as notebook_tqdm\n"
     ]
    }
   ],
   "source": [
    "from model.DQ.dq import *"
   ]
  },
  {
   "cell_type": "code",
   "execution_count": 17,
   "metadata": {
    "ExecuteTime": {
     "end_time": "2023-03-10T01:20:58.310203Z",
     "start_time": "2023-03-10T01:20:58.024115Z"
    }
   },
   "outputs": [],
   "source": [
    "model = DQAE(\n",
    "in_channel = 3,\n",
    "channel = 256,\n",
    "n_res_block = 3,\n",
    "n_res_channel = 256,\n",
    "n_coder_blocks = 2,\n",
    "embed_dim = 64,\n",
    "n_codebooks = 5,\n",
    "stride = 2,\n",
    "decay = 0.99,\n",
    "loss_name = \"mse\",\n",
    "vq_type = \"dq\",\n",
    "beta = 0.25,\n",
    "n_hier = [32,64,128,256],\n",
    "n_logistic_mix = 10,\n",
    ")"
   ]
  },
  {
   "cell_type": "code",
   "execution_count": 18,
   "metadata": {
    "ExecuteTime": {
     "end_time": "2023-03-10T01:21:01.714376Z",
     "start_time": "2023-03-10T01:21:01.705395Z"
    }
   },
   "outputs": [],
   "source": [
    "batch_image = torch.randn((1,3,256,256))"
   ]
  },
  {
   "cell_type": "code",
   "execution_count": 19,
   "metadata": {
    "ExecuteTime": {
     "end_time": "2023-03-10T01:21:06.346610Z",
     "start_time": "2023-03-10T01:21:03.737943Z"
    }
   },
   "outputs": [
    {
     "name": "stdout",
     "output_type": "stream",
     "text": [
      "input:torch.Size([1, 256, 8, 8])\n",
      "pre_quant:torch.Size([1, 8, 8, 64])\n",
      "pre_quant:torch.Size([1, 8, 8, 64])\n",
      "pre_quant:torch.Size([1, 8, 8, 64])\n",
      "pre_quant:torch.Size([1, 8, 8, 64])\n",
      "pre_quant:torch.Size([1, 8, 8, 64])\n",
      "quants:torch.Size([1, 320, 8, 8])\n",
      "input:torch.Size([1, 512, 16, 16])\n",
      "pre_quant:torch.Size([1, 16, 16, 64])\n",
      "pre_quant:torch.Size([1, 16, 16, 64])\n",
      "pre_quant:torch.Size([1, 16, 16, 64])\n",
      "pre_quant:torch.Size([1, 16, 16, 64])\n",
      "pre_quant:torch.Size([1, 16, 16, 64])\n",
      "quants:torch.Size([1, 320, 16, 16])\n",
      "input:torch.Size([1, 512, 32, 32])\n",
      "pre_quant:torch.Size([1, 32, 32, 64])\n",
      "pre_quant:torch.Size([1, 32, 32, 64])\n",
      "pre_quant:torch.Size([1, 32, 32, 64])\n",
      "pre_quant:torch.Size([1, 32, 32, 64])\n",
      "pre_quant:torch.Size([1, 32, 32, 64])\n",
      "quants:torch.Size([1, 320, 32, 32])\n",
      "input:torch.Size([1, 512, 64, 64])\n",
      "pre_quant:torch.Size([1, 64, 64, 64])\n",
      "pre_quant:torch.Size([1, 64, 64, 64])\n",
      "pre_quant:torch.Size([1, 64, 64, 64])\n",
      "pre_quant:torch.Size([1, 64, 64, 64])\n",
      "pre_quant:torch.Size([1, 64, 64, 64])\n",
      "quants:torch.Size([1, 320, 64, 64])\n"
     ]
    }
   ],
   "source": [
    "d = model(batch_image)"
   ]
  },
  {
   "cell_type": "code",
   "execution_count": 20,
   "metadata": {
    "ExecuteTime": {
     "end_time": "2023-03-10T01:21:08.299487Z",
     "start_time": "2023-03-10T01:21:08.073089Z"
    }
   },
   "outputs": [],
   "source": [
    "torch.save(obj= model.state_dict(), f='./dp.pkl')"
   ]
  },
  {
   "cell_type": "code",
   "execution_count": null,
   "metadata": {},
   "outputs": [],
   "source": []
  }
 ],
 "metadata": {
  "hide_input": false,
  "kernelspec": {
   "display_name": "DSIM",
   "language": "python",
   "name": "dsim"
  },
  "language_info": {
   "codemirror_mode": {
    "name": "ipython",
    "version": 3
   },
   "file_extension": ".py",
   "mimetype": "text/x-python",
   "name": "python",
   "nbconvert_exporter": "python",
   "pygments_lexer": "ipython3",
   "version": "3.10.4"
  },
  "latex_envs": {
   "LaTeX_envs_menu_present": true,
   "autoclose": false,
   "autocomplete": true,
   "bibliofile": "biblio.bib",
   "cite_by": "apalike",
   "current_citInitial": 1,
   "eqLabelWithNumbers": true,
   "eqNumInitial": 1,
   "hotkeys": {
    "equation": "Ctrl-E",
    "itemize": "Ctrl-I"
   },
   "labels_anchors": false,
   "latex_user_defs": false,
   "report_style_numbering": false,
   "user_envs_cfg": false
  },
  "toc": {
   "base_numbering": 1,
   "nav_menu": {},
   "number_sections": true,
   "sideBar": true,
   "skip_h1_title": false,
   "title_cell": "Table of Contents",
   "title_sidebar": "Contents",
   "toc_cell": false,
   "toc_position": {},
   "toc_section_display": true,
   "toc_window_display": false
  },
  "varInspector": {
   "cols": {
    "lenName": 16,
    "lenType": 16,
    "lenVar": 40
   },
   "kernels_config": {
    "python": {
     "delete_cmd_postfix": "",
     "delete_cmd_prefix": "del ",
     "library": "var_list.py",
     "varRefreshCmd": "print(var_dic_list())"
    },
    "r": {
     "delete_cmd_postfix": ") ",
     "delete_cmd_prefix": "rm(",
     "library": "var_list.r",
     "varRefreshCmd": "cat(var_dic_list()) "
    }
   },
   "types_to_exclude": [
    "module",
    "function",
    "builtin_function_or_method",
    "instance",
    "_Feature"
   ],
   "window_display": false
  }
 },
 "nbformat": 4,
 "nbformat_minor": 2
}
